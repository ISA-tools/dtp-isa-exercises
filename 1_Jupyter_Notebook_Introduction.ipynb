{
 "cells": [
  {
   "cell_type": "markdown",
   "metadata": {},
   "source": [
    "# Jupyter Notebook Example\n",
    "\n",
    "Credit: This is modified from examples used in the FSCI 2017 Computational Reproducibility Day (https://osf.io/sbnz7/). It was created by Courtney Soderberg and Jennifer Smith from the Center for Open Science. \n"
   ]
  },
  {
   "cell_type": "markdown",
   "metadata": {},
   "source": [
    "# Setting up the notebook\n",
    "\n",
    "## Lets get started\n",
    "\n",
    "The notebook is built up from separate editable areas, or cells.\n",
    "\n",
    "A new notebook contains a single *code* cell.\n",
    "\n",
    "Add a line of code and execute it by:\n",
    "* *clicking the run button*, or\n",
    "* click in the cell, and press shift-return"
   ]
  },
  {
   "cell_type": "code",
   "execution_count": null,
   "metadata": {
    "collapsed": true
   },
   "outputs": [],
   "source": [
    "print('hello world')"
   ]
  },
  {
   "cell_type": "markdown",
   "metadata": {},
   "source": [
    "## Navigating and Selecting Cells\n",
    "\n",
    "To select a cell, click on it. The selected cell will be surrounded by a box with the left hand side highlighted.\n",
    "\n",
    "Move the selection focus to the cell above/below using the keyboard up/down arrow keys.\n",
    "\n",
    "Additionally select adjacent cells using SHIFT-UP ARROW or SHIFT-DOWN ARROW.\n",
    "\n",
    "## Managing Cells - Add, Delete, Reorder\n",
    "\n",
    "Add a new cell to the notebook by:\n",
    "* click the + button on the toolbar\n",
    "* Insert -> Insert Cell Above or ESC-A\n",
    "* Insert -> Insert Cell Below or ESC-B\n",
    "\n",
    "Delete a cell by selecting it and:\n",
    "* click the scissors button on the toolbar\n",
    "* Edit -> Delete cells or ESC-X\n",
    "\n",
    "Undelete the last deleted cell:\n",
    "* Edit -> Undo Delete cells or ESC-Z\n",
    "\n",
    "Each cell has a cell history associated with it. Use CMD-Z to step back through previous cell contents.\n",
    "\n",
    "Reorder cells by:\n",
    "* moving them up and down the notebook using the up and down arrows on the toolbar\n",
    "* Edit -> Move Cell Up or Edit -> Move Cell Down\n",
    "* cutting and pasting them:\n",
    "    * Edit - >Cut or Edit->Paste Cells Above or Edit->Paste Cells Below on the toolbar\n",
    "\n",
    "You can also copy selected cells from the toolbar, Edit -> Copy Cells or ESC-C."
   ]
  },
  {
   "cell_type": "markdown",
   "metadata": {},
   "source": [
    "## Markdown\n",
    "\n",
    "We've seen how we can have coding cells and show their output below them, but what about that plain language I mentioned? We can added another type of cell, a Markdown cell that contains narrative text. Markdown is a popular markup language that is a superset of HTML. To learn more, see [Jupyter's Markdown guide](http://jupyter-notebook.readthedocs.io/en/latest/examples/Notebook/Working%20With%20Markdown%20Cells.html) or revisit the [Reproducible Research lesson on Markdown](https://github.com/Reproducible-Science-Curriculum/introduction-RR-Jupyter/blob/master/notebooks/Navigating%20the%20notebook%20-%20instructor%20script.ipynb).\n",
    "\n",
    "Lets add a markdown cell above our library imports. Do to this:\n",
    "\n",
    "* Change the cell type using the drop down list in the toolbar, or by using the ESC-M keyboard shortcut.\n",
    "* To \"open\" or select a markdown cell for editing, double click the cell.\n",
    "* View the rendered markdown by running the cell:\n",
    "\n",
    "Markdown cells can contain:\n",
    "\n",
    "* headings\n",
    "    Prefix a line of text in a markdown cell by one or more # signs, followed by a space, to specify the level of the heading required.\n",
    "# Heading 1\n",
    "## Heading 2\n",
    "...\n",
    "###### Heading 6"
   ]
  },
  {
   "cell_type": "markdown",
   "metadata": {},
   "source": [
    "## About Libraries in Python\n",
    "\n",
    "Lets use our first code cell to import a library. A library in Python contains a set of tools (called functions) that perform tasks on our data. Importing a library is like getting a piece of lab equipment out of a storage locker and setting it up on the bench for use in a project. Once a library is imported, it can be used or called to perform many tasks.\n",
    "\n",
    "Python doesn’t load all of the libraries available to it by default. We have to add an import statement to our code in order to use library functions. To import a library, we use the syntax `import libraryName`. If we want to give the library a nickname to shorten the command, we can add `as nickNameHere`. An example of importing the Pandas library using the common nickname `pd` is below.\n",
    "\n",
    "**`import`** `pandas` **`as`** `pd`\n",
    "\n"
   ]
  },
  {
   "cell_type": "markdown",
   "metadata": {
    "collapsed": true
   },
   "source": [
    "# Putting it all together\n",
    "\n",
    "On your own or with a partner, using the techniques you've learned in this lesson, try redoing the activity from yesterday. We've provided headers to guide you through the process."
   ]
  },
  {
   "cell_type": "code",
   "execution_count": null,
   "metadata": {
    "collapsed": true
   },
   "outputs": [],
   "source": []
  }
 ],
 "metadata": {
  "kernelspec": {
   "display_name": "Python 3",
   "language": "python",
   "name": "python3"
  },
  "language_info": {
   "codemirror_mode": {
    "name": "ipython",
    "version": 3
   },
   "file_extension": ".py",
   "mimetype": "text/x-python",
   "name": "python",
   "nbconvert_exporter": "python",
   "pygments_lexer": "ipython3",
   "version": "3.6.0"
  }
 },
 "nbformat": 4,
 "nbformat_minor": 1
}
